{
 "cells": [
  {
   "attachments": {},
   "cell_type": "markdown",
   "metadata": {},
   "source": [
    "\n",
    "# Assignment 1  \n",
    "<img src=\"files/retailPhoto.jpg\">\n",
    "Thie notebook will provide an overview of a sample retail dataset.\n",
    "\n",
    "This dataset is part of the UC Irvine Machine Learning Repository:\n",
    "* http://archive.ics.uci.edu/ml/index.php  \n",
    "\n",
    "In this notebook, we'll train two classifiers to predict survivors in the [Online Retail dataset](\"http://archive.ics.uci.edu/ml/machine-learning-databases/00352/Online%20Retail.xlsx\"). "
   ]
  },
  {
   "cell_type": "code",
   "execution_count": 3,
   "metadata": {},
   "outputs": [],
   "source": [
    "sc = pyspark.SparkContext()"
   ]
  },
  {
   "cell_type": "markdown",
   "metadata": {},
   "source": [
    "## Preview the data"
   ]
  },
  {
   "cell_type": "code",
   "execution_count": 4,
   "metadata": {},
   "outputs": [],
   "source": [
    "raw_rdd = sc.textFile(\"Online Retail.csv\")"
   ]
  },
  {
   "cell_type": "markdown",
   "metadata": {},
   "source": [
    "For the number of records:"
   ]
  },
  {
   "cell_type": "code",
   "execution_count": 5,
   "metadata": {},
   "outputs": [
    {
     "data": {
      "text/plain": [
       "20194"
      ]
     },
     "execution_count": 5,
     "metadata": {},
     "output_type": "execute_result"
    }
   ],
   "source": [
    "raw_rdd.count()"
   ]
  },
  {
   "cell_type": "markdown",
   "metadata": {},
   "source": [
    "To preview first 10 lines:"
   ]
  },
  {
   "cell_type": "code",
   "execution_count": 6,
   "metadata": {},
   "outputs": [
    {
     "data": {
      "text/plain": [
       "['InvoiceNo,StockCode,Description,Quantity,InvoiceDate,UnitPrice,CustomerID,Country',\n",
       " '536365,85123A,WHITE HANGING HEART T-LIGHT HOLDER,6,2010-12-01 8:26,2.55,17850,United Kingdom',\n",
       " '536365,71053,WHITE METAL LANTERN,6,2010-12-01 8:26,3.39,17850,United Kingdom',\n",
       " '536365,84406B,CREAM CUPID HEARTS COAT HANGER,8,2010-12-01 8:26,2.75,17850,United Kingdom',\n",
       " '536365,84029G,KNITTED UNION FLAG HOT WATER BOTTLE,6,2010-12-01 8:26,3.39,17850,United Kingdom',\n",
       " '536365,84029E,RED WOOLLY HOTTIE WHITE HEART.,6,2010-12-01 8:26,3.39,17850,United Kingdom',\n",
       " '536365,22752,SET 7 BABUSHKA NESTING BOXES,2,2010-12-01 8:26,7.65,17850,United Kingdom',\n",
       " '536365,21730,GLASS STAR FROSTED T-LIGHT HOLDER,6,2010-12-01 8:26,4.25,17850,United Kingdom',\n",
       " '536366,22633,HAND WARMER UNION JACK,6,2010-12-01 8:28,1.85,17850,United Kingdom',\n",
       " '536366,22632,HAND WARMER RED POLKA DOT,6,2010-12-01 8:28,1.85,17850,United Kingdom']"
      ]
     },
     "execution_count": 6,
     "metadata": {},
     "output_type": "execute_result"
    }
   ],
   "source": [
    "raw_rdd.take(10)"
   ]
  },
  {
   "cell_type": "markdown",
   "metadata": {},
   "source": [
    "To filter out the header to define a new RDD containing only the data rows."
   ]
  },
  {
   "cell_type": "code",
   "execution_count": 7,
   "metadata": {},
   "outputs": [],
   "source": [
    "header = raw_rdd.first()\n",
    "data_rdd = raw_rdd.filter(lambda line: line != header)"
   ]
  },
  {
   "cell_type": "markdown",
   "metadata": {},
   "source": [
    "We can take a random sample of the data rows:"
   ]
  },
  {
   "cell_type": "code",
   "execution_count": 8,
   "metadata": {},
   "outputs": [
    {
     "data": {
      "text/plain": [
       "['536982,21673,WHITE SPOT BLUE CERAMIC DRAWER KNOB,2,2010-12-03 14:27,3.36,,United Kingdom',\n",
       " '537781,22759,SET OF 3 NOTEBOOKS IN PARCEL,1,2010-12-08 12:46,1.65,17341,United Kingdom',\n",
       " '537655,84970L,SINGLE HEART ZINC T-LIGHT HOLDER,12,2010-12-07 16:20,0.95,15081,United Kingdom',\n",
       " '537434,22697,GREEN REGENCY TEACUP AND SAUCER,8,2010-12-06 16:57,5.91,,United Kingdom',\n",
       " '536370,21724,PANDA AND BUNNIES STICKER SHEET,12,2010-12-01 8:45,0.85,12583,France']"
      ]
     },
     "execution_count": 8,
     "metadata": {},
     "output_type": "execute_result"
    }
   ],
   "source": [
    "data_rdd.takeSample(False, 5, 0)"
   ]
  },
  {
   "cell_type": "code",
   "execution_count": null,
   "metadata": {},
   "outputs": [],
   "source": []
  }
 ],
 "metadata": {
  "kernelspec": {
   "display_name": "Python 3",
   "language": "python",
   "name": "python3"
  },
  "language_info": {
   "codemirror_mode": {
    "name": "ipython",
    "version": 3
   },
   "file_extension": ".py",
   "mimetype": "text/x-python",
   "name": "python",
   "nbconvert_exporter": "python",
   "pygments_lexer": "ipython3",
   "version": "3.6.3"
  }
 },
 "nbformat": 4,
 "nbformat_minor": 2
}
