{
 "cells": [
  {
   "cell_type": "markdown",
   "metadata": {},
   "source": [
    "# Assignment 3  \n",
    "\n",
    "This assignment will use the scikit-learn to identify client segments in a databse of retail customers.  \n",
    "\n",
    "Online Retail dataset is a fictitious dataset.\n",
    "\n",
    "The features used for clustering are the following continous features:\n",
    "1. NOTEBOOK\n",
    "2. DESK_CLOCK\n",
    "3. COFFEE _BOX\n",
    "4. GREETING_CARD\n",
    "5. TYPEWRITER\n",
    "6. GIFT_WRAP \n",
    "\n",
    "The algorithm used is the kMeans clustering algorithm."
   ]
  },
  {
   "cell_type": "code",
   "execution_count": 5,
   "metadata": {},
   "outputs": [],
   "source": [
    "from sklearn import cluster\n",
    "import pandas as pd\n",
    "import numpy as np\n",
    "np.random.seed(100)"
   ]
  },
  {
   "cell_type": "code",
   "execution_count": 10,
   "metadata": {},
   "outputs": [],
   "source": [
    "df = pd.read_csv('Online Retail.csv')\n",
    "df = df[['NOTEBOOK','DESK_CLOCK','COFFEE _BOX','GREETING_CARD','TYPEWRITER','GIFT_WRAP ']]"
   ]
  },
  {
   "cell_type": "markdown",
   "metadata": {},
   "source": [
    "Group the data into 4 natural clusters and pring assigned labels."
   ]
  },
  {
   "cell_type": "code",
   "execution_count": 12,
   "metadata": {},
   "outputs": [
    {
     "data": {
      "text/plain": [
       "array([2, 0, 2, 2, 1, 2, 2, 2, 2, 0, 0, 2, 1, 0, 1, 2, 0, 2, 2, 2, 2, 2, 1,\n",
       "       3, 1, 2, 2, 2, 0, 1, 2, 2, 2, 1, 2, 0, 1, 0, 0, 1, 1, 2, 0, 0, 2, 0,\n",
       "       0, 3, 2, 0, 2, 2, 1, 0, 1, 2, 3, 0, 2, 2, 2, 3, 2, 0, 2, 3, 2, 2, 2,\n",
       "       2, 2, 0, 2, 2, 2, 2, 2, 0, 2, 2, 2, 0, 0, 2, 2, 3, 3, 1, 2, 1, 2, 2,\n",
       "       3, 2, 0, 2, 2, 2, 2, 2, 0, 0, 2, 1, 2, 2, 0, 0, 2, 0, 2, 0, 2, 2, 2,\n",
       "       2, 2, 2, 2, 2, 2, 2, 2, 2, 1, 1, 2, 2, 2, 1, 2, 2, 2, 2, 2, 2, 2, 2,\n",
       "       2, 2, 2, 1, 1, 2, 2, 0, 2, 2, 2, 1, 2, 2, 2, 2, 2, 0, 0, 2, 0, 0, 0,\n",
       "       2, 2, 0, 2, 0, 0, 2, 2, 2, 0, 0, 2, 0, 2, 0, 1, 2, 2, 2, 2, 1, 0, 1,\n",
       "       2, 2, 2, 0, 0, 0, 2, 2, 2, 0, 2, 2, 1, 0, 2, 2, 0, 0, 1, 2, 2, 0, 2,\n",
       "       2, 2, 0, 2, 3, 2, 2, 0, 0, 0, 2, 0, 2, 2, 0, 2, 2, 2, 2, 2, 2, 2, 2,\n",
       "       2, 2, 1, 2, 2, 2, 2, 2, 2, 1, 1, 1, 2, 2, 0, 0, 2, 2, 2, 2, 2, 3, 2,\n",
       "       1, 2, 1, 2, 2, 1, 1, 2, 2, 2, 2, 0, 0, 0, 2, 0, 2, 2, 2, 2, 1, 2, 2,\n",
       "       1, 2, 2, 2, 2, 2, 1, 1, 1, 1, 2, 2, 2, 1, 2, 2, 2, 0, 2, 2, 2, 2, 2,\n",
       "       2, 2, 0, 0, 0, 0, 0, 0, 2, 2, 0, 2, 1, 0, 2, 2, 0, 2, 2, 2, 0, 2, 2,\n",
       "       2, 2, 1, 1, 2, 2, 2, 2, 2, 0, 2, 3, 2, 1, 2, 2, 2, 2, 0, 0, 2, 0, 2,\n",
       "       2, 0, 1, 2, 0, 2, 0, 2, 0, 2, 2, 2, 0, 2, 2, 2, 2, 2, 2, 2, 2, 2, 2,\n",
       "       2, 2, 1, 2, 2, 2, 2, 2, 0, 1, 2, 2, 1, 2, 1, 2, 0, 2, 2, 2, 2, 2, 2,\n",
       "       2, 2, 1, 2, 2, 0, 2, 2, 2, 2, 1, 1, 1, 2, 2, 1, 0, 2, 2, 2, 2, 0, 2,\n",
       "       2, 2, 0, 0, 0, 2, 0, 2, 1], dtype=int32)"
      ]
     },
     "execution_count": 12,
     "metadata": {},
     "output_type": "execute_result"
    }
   ],
   "source": [
    "k_means = cluster.KMeans(n_clusters=4)\n",
    "k_means.fit(df) \n",
    "k_means.labels_"
   ]
  },
  {
   "cell_type": "markdown",
   "metadata": {},
   "source": [
    "Now we take a subset of the observations inretail data that were assigned to cluster 0 and print out the average spent per category of purchases as well as the total.\n",
    "\n",
    "Cluster = 0"
   ]
  },
  {
   "cell_type": "code",
   "execution_count": 13,
   "metadata": {},
   "outputs": [
    {
     "name": "stdout",
     "output_type": "stream",
     "text": [
      "Mean:\n",
      "NOTEBOOK          4637.142857\n",
      "DESK_CLOCK       10339.769231\n",
      "COFFEE _BOX      16687.054945\n",
      "GREETING_CARD     1452.494505\n",
      "TYPEWRITER        7206.890110\n",
      "GIFT_WRAP         1644.538462\n",
      "dtype: float64\n",
      "\n",
      "Total:\n",
      "6994.64835165\n"
     ]
    }
   ],
   "source": [
    "i, = np.where(k_means.labels_==0)\n",
    "print('Mean:')\n",
    "print(df.loc[i,].mean())\n",
    "print('\\nTotal:')\n",
    "print(df.loc[i,].mean().sum()/6)"
   ]
  },
  {
   "cell_type": "markdown",
   "metadata": {},
   "source": [
    "Cluster = 1"
   ]
  },
  {
   "cell_type": "code",
   "execution_count": 15,
   "metadata": {},
   "outputs": [
    {
     "name": "stdout",
     "output_type": "stream",
     "text": [
      "Mean:\n",
      "NOTEBOOK         36308.642857\n",
      "DESK_CLOCK        5912.964286\n",
      "COFFEE _BOX       6311.071429\n",
      "GREETING_CARD     6591.589286\n",
      "TYPEWRITER        1093.517857\n",
      "GIFT_WRAP         3153.571429\n",
      "dtype: float64\n",
      "\n",
      "Total:\n",
      "9895.22619048\n"
     ]
    }
   ],
   "source": [
    "i, = np.where(k_means.labels_==1)\n",
    "print('Mean:')\n",
    "print(df.loc[i,].mean())\n",
    "print('\\nTotal:')\n",
    "print(df.loc[i,].mean().sum()/6)"
   ]
  },
  {
   "cell_type": "markdown",
   "metadata": {},
   "source": [
    "Cluster = 2"
   ]
  },
  {
   "cell_type": "code",
   "execution_count": 17,
   "metadata": {},
   "outputs": [
    {
     "name": "stdout",
     "output_type": "stream",
     "text": [
      "Mean:\n",
      "NOTEBOOK         9016.067925\n",
      "DESK_CLOCK       3024.094340\n",
      "COFFEE _BOX      3712.660377\n",
      "GREETING_CARD    2796.796226\n",
      "TYPEWRITER        998.845283\n",
      "GIFT_WRAP        1038.516981\n",
      "dtype: float64\n",
      "\n",
      "Total:\n",
      "3431.16352201\n"
     ]
    }
   ],
   "source": [
    "i, = np.where(k_means.labels_==2)\n",
    "print('Mean:')\n",
    "print(df.loc[i,].mean())\n",
    "print('\\nTotal:')\n",
    "print(df.loc[i,].mean().sum()/6)"
   ]
  },
  {
   "cell_type": "markdown",
   "metadata": {},
   "source": [
    "Cluster = 3"
   ]
  },
  {
   "cell_type": "code",
   "execution_count": 18,
   "metadata": {},
   "outputs": [
    {
     "name": "stdout",
     "output_type": "stream",
     "text": [
      "Mean:\n",
      "NOTEBOOK         9016.067925\n",
      "DESK_CLOCK       3024.094340\n",
      "COFFEE _BOX      3712.660377\n",
      "GREETING_CARD    2796.796226\n",
      "TYPEWRITER        998.845283\n",
      "GIFT_WRAP        1038.516981\n",
      "dtype: float64\n",
      "\n",
      "Total:\n",
      "3431.16352201\n"
     ]
    }
   ],
   "source": [
    "i, = np.where(k_means.labels_==2)\n",
    "print('Mean:')\n",
    "print(df.loc[i,].mean())\n",
    "print('\\nTotal:')\n",
    "print(df.loc[i,].mean().sum()/6)"
   ]
  },
  {
   "cell_type": "markdown",
   "metadata": {},
   "source": [
    "Based on the results, it looks like the clusters indicate there are 3 main customer segments:small (approx. 3400), medium (approx. 7000) and large (10000)."
   ]
  }
 ],
 "metadata": {
  "kernelspec": {
   "display_name": "Python 3",
   "language": "python",
   "name": "python3"
  },
  "language_info": {
   "codemirror_mode": {
    "name": "ipython",
    "version": 3
   },
   "file_extension": ".py",
   "mimetype": "text/x-python",
   "name": "python",
   "nbconvert_exporter": "python",
   "pygments_lexer": "ipython3",
   "version": "3.6.3"
  }
 },
 "nbformat": 4,
 "nbformat_minor": 2
}
